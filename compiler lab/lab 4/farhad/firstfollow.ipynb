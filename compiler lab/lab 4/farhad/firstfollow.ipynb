{
  "nbformat": 4,
  "nbformat_minor": 0,
  "metadata": {
    "colab": {
      "provenance": []
    },
    "kernelspec": {
      "name": "python3",
      "display_name": "Python 3"
    },
    "language_info": {
      "name": "python"
    }
  },
  "cells": [
    {
      "cell_type": "markdown",
      "source": [
        "#First and Follow Function\n"
      ],
      "metadata": {
        "id": "e2dGg55Ece1_"
      }
    },
    {
      "cell_type": "markdown",
      "source": [
        "## Import library"
      ],
      "metadata": {
        "id": "y3HW7ATQ4SGo"
      }
    },
    {
      "cell_type": "code",
      "source": [
        "import re"
      ],
      "metadata": {
        "id": "Q1LKsxxO_j9L"
      },
      "execution_count": 45,
      "outputs": []
    },
    {
      "cell_type": "markdown",
      "source": [
        "## take input from file"
      ],
      "metadata": {
        "id": "TRqGRUdw4Vs0"
      }
    },
    {
      "cell_type": "code",
      "source": [
        "input = open(\"/content/drive/MyDrive/Uap/Compiler lab/farhad/input0.txt\", \"r\")\n",
        "input"
      ],
      "metadata": {
        "colab": {
          "base_uri": "https://localhost:8080/"
        },
        "id": "KeukcmX6382X",
        "outputId": "1541c87a-cb88-4ebd-baf8-146516929011"
      },
      "execution_count": 46,
      "outputs": [
        {
          "output_type": "execute_result",
          "data": {
            "text/plain": [
              "<_io.TextIOWrapper name='/content/drive/MyDrive/Uap/4TH2ND/Mine/Compiler lab/farhad/input0.txt' mode='r' encoding='UTF-8'>"
            ]
          },
          "metadata": {},
          "execution_count": 46
        }
      ]
    },
    {
      "cell_type": "markdown",
      "source": [
        "## declare some necessary variable"
      ],
      "metadata": {
        "id": "Jjqox1QV5jlj"
      }
    },
    {
      "cell_type": "code",
      "source": [
        "productions = {}\n",
        "first_dic = {}\n",
        "follow_dic = {}"
      ],
      "metadata": {
        "id": "vDgfe2xh5nPy"
      },
      "execution_count": 47,
      "outputs": []
    },
    {
      "cell_type": "markdown",
      "source": [
        "## extract data from file which is grammar variable"
      ],
      "metadata": {
        "id": "eO0p8xpI5qD2"
      }
    },
    {
      "cell_type": "code",
      "source": [
        "for prod in input:\n",
        "  l = re.split(\"( /->/\\n/)*\", prod)\n",
        "  #print('l: ', l)\n",
        "  m = []\n",
        "  for i in l:\n",
        "    if (i == \"\" or i == None or i == '\\n' or i == \" \" or i == \"-\" or i == \">\"):  #checking the splitation and enter is pressed or -> is found\n",
        "      pass\n",
        "    else:\n",
        "      m.append(i)\n",
        "  #print('m: ', m)\n",
        "\n",
        "  left_prod = m.pop(0)\n",
        "  right_prod = []\n",
        "  t = []\n",
        "  # taking input the values after |\n",
        "  for j in m:\n",
        "    if(j != '|'):\n",
        "      t.append(j)\n",
        "    else:\n",
        "      right_prod.append(t)\n",
        "      t = []\n",
        "\n",
        "  right_prod.append(t)\n",
        "  productions[left_prod] = right_prod\n",
        "  print('productions= ', productions)"
      ],
      "metadata": {
        "colab": {
          "base_uri": "https://localhost:8080/"
        },
        "id": "VfSHVehd6QVo",
        "outputId": "d924dfff-e58e-413a-83fe-72ae79b53c0d"
      },
      "execution_count": 48,
      "outputs": [
        {
          "output_type": "stream",
          "name": "stdout",
          "text": [
            "productions=  {'E': [['T', 'R']]}\n",
            "productions=  {'E': [['T', 'R']], 'R': [['+', 'T', 'R'], ['#']]}\n",
            "productions=  {'E': [['T', 'R']], 'R': [['+', 'T', 'R'], ['#']], 'T': [['F', 'Y']]}\n",
            "productions=  {'E': [['T', 'R']], 'R': [['+', 'T', 'R'], ['#']], 'T': [['F', 'Y']], 'Y': [['*', 'F', 'Y'], ['#']]}\n",
            "productions=  {'E': [['T', 'R']], 'R': [['+', 'T', 'R'], ['#']], 'T': [['F', 'Y']], 'Y': [['*', 'F', 'Y'], ['#']], 'F': [['(', 'E', ')'], ['i']]}\n"
          ]
        }
      ]
    },
    {
      "cell_type": "code",
      "source": [
        "productions"
      ],
      "metadata": {
        "colab": {
          "base_uri": "https://localhost:8080/"
        },
        "id": "cCnElZBC7KHZ",
        "outputId": "753dbf85-c260-4300-808f-5598bbf108c0"
      },
      "execution_count": 49,
      "outputs": [
        {
          "output_type": "execute_result",
          "data": {
            "text/plain": [
              "{'E': [['T', 'R']],\n",
              " 'R': [['+', 'T', 'R'], ['#']],\n",
              " 'T': [['F', 'Y']],\n",
              " 'Y': [['*', 'F', 'Y'], ['#']],\n",
              " 'F': [['(', 'E', ')'], ['i']]}"
            ]
          },
          "metadata": {},
          "execution_count": 49
        }
      ]
    },
    {
      "cell_type": "markdown",
      "source": [
        "## Create First function"
      ],
      "metadata": {
        "id": "s226G6_27s1L"
      }
    },
    {
      "cell_type": "code",
      "source": [
        "def first_func(s, productions):\n",
        "  first = set()\n",
        "  # set() is used for storing multiple item into a single variable.\n",
        "  #iterating in production dictionary\n",
        "  for i in range(len(productions[s])):\n",
        "    for j in range(len(productions[s][i])):\n",
        "      c = productions[s][i][j]  #store all in c\n",
        "      #if the variable is found then\n",
        "      if(c.isupper()): #here, upper means any capital letter\n",
        "        f = first_func(c, productions)\n",
        "        #if no epsilon is present in f\n",
        "        if('#' not in f):\n",
        "          for k in f:\n",
        "            first.add(k)\n",
        "            break\n",
        "        else:\n",
        "          if(j == len(productions[s][i])-1):\n",
        "            for k in f:\n",
        "              first.add(k)\n",
        "          else:\n",
        "            f.remove('#')\n",
        "            for k in f:\n",
        "              first.add(k)\n",
        "      else:\n",
        "        first.add(c)\n",
        "        break\n",
        "  return first"
      ],
      "metadata": {
        "id": "kAPbrHdH7wJa"
      },
      "execution_count": 50,
      "outputs": []
    },
    {
      "cell_type": "markdown",
      "source": [
        "## create Follow function"
      ],
      "metadata": {
        "id": "qJtDGLgI8YlE"
      }
    },
    {
      "cell_type": "code",
      "source": [
        "#follow is a dict for keeping follow elements of cfg\n",
        "#productions is the dictionary for holding the grammar\n",
        "#follow function\n",
        "def follow_func(s, productions, first):\n",
        "  follow = set()\n",
        "\n",
        "  if len(s)!=1 :\n",
        "    return {}\n",
        "  if(s == list(productions.keys())[0]): #in start we add $ intially\n",
        "    follow.add('$')  #dollar sign is used for the non terminal same values\n",
        "\n",
        "  # iterating in production dictionary\n",
        "  for i in productions:\n",
        "    for j in range(len(productions[i])):\n",
        "      if(s in productions[i][j]):\n",
        "        idx = productions[i][j].index(s) #here,idx is used to keep the keys or index mapping of dictionary.\n",
        "\n",
        "        #if index value of product and current value matches break\n",
        "        if(idx == len(productions[i][j])-1):\n",
        "          if(productions[i][j][idx] == i):\n",
        "            break\n",
        "\n",
        "          #else recursive function to find the follow of ith index value\n",
        "          else:\n",
        "            f = follow_func(i, productions, first)\n",
        "            for x in f:\n",
        "              follow.add(x) #add them in follow function\n",
        "\n",
        "        #if there is not yet at the last index\n",
        "        else:\n",
        "          while(idx != len(productions[i][j]) - 1):\n",
        "            idx += 1\n",
        "            if(not productions[i][j][idx].isupper()):\n",
        "              follow.add(productions[i][j][idx])\n",
        "              break\n",
        "            #calculating first of the rightmost empty variable\n",
        "            else:\n",
        "              f = first_func(productions[i][j][idx], productions)\n",
        "\n",
        "              #if we find a non terminal value\n",
        "              if('#' not in f):\n",
        "                for x in f:\n",
        "                  follow.add(x)\n",
        "                break\n",
        "              #else if there is a epsilon\n",
        "              elif('#' in f and idx != len(productions[i][j])-1):\n",
        "                f.remove('#')\n",
        "                for k in f:\n",
        "                  follow.add(k)\n",
        "\n",
        "              elif('#' in f and idx == len(productions[i][j])-1):\n",
        "                f.remove('#')\n",
        "                for k in f:\n",
        "                  follow.add(k)\n",
        "                #recursive function to the add the follows\n",
        "                f = follow_func(i, productions, first)\n",
        "                for x in f:\n",
        "                  follow.add(x)\n",
        "\n",
        "  return follow"
      ],
      "metadata": {
        "id": "PixLWyhc8am3"
      },
      "execution_count": 51,
      "outputs": []
    },
    {
      "cell_type": "markdown",
      "source": [
        "## call first function"
      ],
      "metadata": {
        "id": "O0HR8KHv-_-r"
      }
    },
    {
      "cell_type": "code",
      "source": [
        "for s in productions.keys(): # s denotes the keys of the dictionary such as E ,T ,R, F etc\n",
        "  first_dic[s] = first_func(s, productions)"
      ],
      "metadata": {
        "id": "wx7Odzbs_Dts"
      },
      "execution_count": 52,
      "outputs": []
    },
    {
      "cell_type": "markdown",
      "source": [
        "## print first"
      ],
      "metadata": {
        "id": "f_wxTzIU_WdZ"
      }
    },
    {
      "cell_type": "code",
      "source": [
        "print(\"FIRST \")\n",
        "for lhs, rhs in first_dic.items():\n",
        "  print(lhs, \"=\" , rhs)\n",
        "print(\"\")"
      ],
      "metadata": {
        "colab": {
          "base_uri": "https://localhost:8080/"
        },
        "id": "TaPpEYzr_b7I",
        "outputId": "37b5b93f-66b9-4c0b-94ab-a9d0139419e1"
      },
      "execution_count": 53,
      "outputs": [
        {
          "output_type": "stream",
          "name": "stdout",
          "text": [
            "FIRST \n",
            "E = {'*', '(', '#', '+'}\n",
            "R = {'+', '#'}\n",
            "T = {'*', '(', '#'}\n",
            "Y = {'*', '#'}\n",
            "F = {'(', 'i'}\n",
            "\n"
          ]
        }
      ]
    },
    {
      "cell_type": "markdown",
      "source": [
        "## call follow function"
      ],
      "metadata": {
        "id": "duHLD9xr_8Eh"
      }
    },
    {
      "cell_type": "code",
      "source": [
        "for lhs in productions:\n",
        "  follow_dic[lhs] = set()\n",
        "\n",
        "for s in productions.keys():\n",
        "  follow_dic[s] = follow_func(s, productions, first_dic)"
      ],
      "metadata": {
        "id": "3X-Oyl3I__QZ"
      },
      "execution_count": 54,
      "outputs": []
    },
    {
      "cell_type": "markdown",
      "source": [
        "## print follow"
      ],
      "metadata": {
        "id": "IEQ7HCXRAX5c"
      }
    },
    {
      "cell_type": "code",
      "source": [
        "print(\"FOLLOW:\")\n",
        "for lhs, rhs in follow_dic.items():\n",
        "  print(lhs, \":\" , rhs)"
      ],
      "metadata": {
        "colab": {
          "base_uri": "https://localhost:8080/"
        },
        "id": "BwzyWTG_AYk7",
        "outputId": "c01830e1-2bb0-4c24-8ad1-702f0b569890"
      },
      "execution_count": 55,
      "outputs": [
        {
          "output_type": "stream",
          "name": "stdout",
          "text": [
            "FOLLOW:\n",
            "E : {'$', ')'}\n",
            "R : {'$', ')'}\n",
            "T : {')', '+', '$'}\n",
            "Y : {'+', ')', '$'}\n",
            "F : {'*', '+', ')', '$'}\n"
          ]
        }
      ]
    },
    {
      "cell_type": "code",
      "source": [
        "input.close()"
      ],
      "metadata": {
        "id": "_qc8HJrbAqbK"
      },
      "execution_count": 56,
      "outputs": []
    }
  ]
}