{
  "nbformat": 4,
  "nbformat_minor": 0,
  "metadata": {
    "colab": {
      "provenance": []
    },
    "kernelspec": {
      "name": "python3",
      "display_name": "Python 3"
    },
    "language_info": {
      "name": "python"
    }
  },
  "cells": [
    {
      "cell_type": "code",
      "execution_count": null,
      "metadata": {
        "colab": {
          "base_uri": "https://localhost:8080/"
        },
        "id": "yQcRGJ6qa3Ua",
        "outputId": "ea3dc1ff-721e-4291-ad92-f512765743d7"
      },
      "outputs": [
        {
          "output_type": "stream",
          "name": "stdout",
          "text": [
            "Input Non_terminal_symbol: T\n",
            "Input Production_split expression: T*F | F\n",
            "\n",
            "The Input grammar: T->T*F | F\n",
            "After elimination of left recursion the grammar is: \n",
            "T -->  FT'\n",
            "T'--> *F T'|ε\n"
          ]
        }
      ],
      "source": [
        "def eliminate_left_recursion(non_terminal, production_split):\n",
        "  alpha_productions = ''\n",
        "  beta_productions = ''\n",
        "  productions = [p for p in production_split.split('|') if p != ' ε ']\n",
        "\n",
        "  for production in productions:\n",
        "     if not production.startswith(non_terminal):\n",
        "      beta_productions += f\"{production}{non_terminal}'|\"\n",
        "     else:\n",
        "      alpha_productions += f\"{production.replace(non_terminal, '')}{non_terminal}'|\"\n",
        "\n",
        "\n",
        "  print(\"After elimination of left recursion the grammar is: \")\n",
        "  beta_productions = beta_productions[:-1]\n",
        "  print(f\"{non_terminal} --> {beta_productions}\")\n",
        "  print(f\"{non_terminal}'--> {alpha_productions}ε\")\n",
        "\n",
        "\n",
        "non_terminal_symbol = input(\"Input Non_terminal_symbol: \")\n",
        "production_split = input(\"Input Production_split expression: \")\n",
        "print(f\"\\nThe Input grammar: {non_terminal_symbol}->{production_split}\")\n",
        "\n",
        "eliminate_left_recursion(non_terminal_symbol, production_split)\n"
      ]
    },
    {
      "cell_type": "code",
      "source": [],
      "metadata": {
        "id": "5QDuboR2sbXY"
      },
      "execution_count": null,
      "outputs": []
    }
  ]
}